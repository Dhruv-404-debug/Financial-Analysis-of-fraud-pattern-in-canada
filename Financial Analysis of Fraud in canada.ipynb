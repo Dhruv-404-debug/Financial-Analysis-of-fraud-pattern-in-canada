{
 "cells": [
  {
   "cell_type": "code",
   "execution_count": 110,
   "id": "3d57aa16-154f-43d4-974f-ce604a0994da",
   "metadata": {},
   "outputs": [],
   "source": [
    "import pandas as pd\n",
    "import matplotlib.pyplot as plt\n",
    "import seaborn as sns\n",
    "import re"
   ]
  },
  {
   "cell_type": "code",
   "execution_count": 112,
   "id": "ba0b1717-02e7-4f12-bcb2-b383bbd1185a",
   "metadata": {},
   "outputs": [
    {
     "name": "stdout",
     "output_type": "stream",
     "text": [
      "Numero d'identification / Number ID                             int64\n",
      "Date Received / Date recue                                     object\n",
      "Complaint Received Type                                        object\n",
      "Type de plainte recue                                          object\n",
      "Country                                                        object\n",
      "Pays                                                           object\n",
      "Province/State                                                 object\n",
      "Province/Etat                                                  object\n",
      "Fraud and Cybercrime Thematic Categories                       object\n",
      "Categories thematiques sur la fraude et la cybercriminalite    object\n",
      "Solicitation Method                                            object\n",
      "Methode de sollicitation                                       object\n",
      "Gender                                                         object\n",
      "Genre                                                          object\n",
      "Language of Correspondence                                     object\n",
      "Langue de correspondance                                       object\n",
      "Victim Age Range / Tranche d'age des victimes                  object\n",
      "Complaint Type                                                 object\n",
      "Type de plainte                                                object\n",
      "Number of Victims / Nombre de victimes                          int64\n",
      "Dollar Loss /pertes financieres                                object\n",
      "dtype: object\n"
     ]
    }
   ],
   "source": [
    "data=pd.read_csv('Canadian Anti-Fraud Centre Fraud - Canadian Anti-Fraud Centre Frau.csv')\n",
    "\n",
    "data.head()\n",
    "print(data.dtypes)\n"
   ]
  },
  {
   "cell_type": "code",
   "execution_count": 114,
   "id": "16f9a5e1-cbdd-415c-b59e-af6e89ddaf05",
   "metadata": {},
   "outputs": [
    {
     "name": "stderr",
     "output_type": "stream",
     "text": [
      "/var/folders/qh/h818hm851ln4ccffmg5hn54w0000gn/T/ipykernel_4206/3070512719.py:15: SettingWithCopyWarning:\n",
      "\n",
      "\n",
      "A value is trying to be set on a copy of a slice from a DataFrame\n",
      "\n",
      "See the caveats in the documentation: https://pandas.pydata.org/pandas-docs/stable/user_guide/indexing.html#returning-a-view-versus-a-copy\n",
      "\n",
      "/var/folders/qh/h818hm851ln4ccffmg5hn54w0000gn/T/ipykernel_4206/3070512719.py:25: SettingWithCopyWarning:\n",
      "\n",
      "\n",
      "A value is trying to be set on a copy of a slice from a DataFrame\n",
      "\n",
      "See the caveats in the documentation: https://pandas.pydata.org/pandas-docs/stable/user_guide/indexing.html#returning-a-view-versus-a-copy\n",
      "\n",
      "/var/folders/qh/h818hm851ln4ccffmg5hn54w0000gn/T/ipykernel_4206/3070512719.py:31: SettingWithCopyWarning:\n",
      "\n",
      "\n",
      "A value is trying to be set on a copy of a slice from a DataFrame.\n",
      "Try using .loc[row_indexer,col_indexer] = value instead\n",
      "\n",
      "See the caveats in the documentation: https://pandas.pydata.org/pandas-docs/stable/user_guide/indexing.html#returning-a-view-versus-a-copy\n",
      "\n",
      "/var/folders/qh/h818hm851ln4ccffmg5hn54w0000gn/T/ipykernel_4206/3070512719.py:32: SettingWithCopyWarning:\n",
      "\n",
      "\n",
      "A value is trying to be set on a copy of a slice from a DataFrame.\n",
      "Try using .loc[row_indexer,col_indexer] = value instead\n",
      "\n",
      "See the caveats in the documentation: https://pandas.pydata.org/pandas-docs/stable/user_guide/indexing.html#returning-a-view-versus-a-copy\n",
      "\n"
     ]
    }
   ],
   "source": [
    "\n",
    "def data_cleaning_4_raw(data):\n",
    "    # English Column Extract\n",
    "    data = data[[\n",
    "        \"Numero d'identification / Number ID\",\n",
    "        'Date Received / Date recue',\n",
    "       'Complaint Received Type', 'Country', 'Pays',\n",
    "       'Province/State',\n",
    "       'Fraud and Cybercrime Thematic Categories',\n",
    "       'Solicitation Method', 'Gender','Language of Correspondence',\n",
    "       \"Victim Age Range / Tranche d'age des victimes\", 'Complaint Type',\n",
    "       'Number of Victims / Nombre de victimes',\n",
    "       'Dollar Loss /pertes financieres']]\n",
    "\n",
    "    # Rename columns' name in english\n",
    "    data.rename(columns={\n",
    "        \"Numero d'identification / Number ID\":\"Number_ID\",\n",
    "        'Date Received / Date recue':\"Date_Received\",\n",
    "        'Fraud and Cybercrime Thematic Categories':\"Fraud_and_Cybercrime_Thematic_Categories\",\n",
    "        \"Victim Age Range / Tranche d'age des victimes\":\"Victim_Age_Range\",\n",
    "        'Number of Victims / Nombre de victimes':'Number_of_Victims',\n",
    "        'Dollar Loss /pertes financieres':'Dollar_Loss',\n",
    "        }, inplace=True)\n",
    "\n",
    "    # Get Canada's Data only\n",
    "    data.query('\"Canada\" in Country', inplace=True)\n",
    "    # Remove Provence = 'California':\n",
    "    data = data[data['Province/State']!= \"California\"]\n",
    "    data.reset_index(inplace=True, drop=True)\n",
    "\n",
    "    # Columns' type modify\n",
    "    data['Dollar_Loss'] = data['Dollar_Loss'].map(lambda x: float(re.sub('[$,]','',x)))\n",
    "    data['Date_Received'] = pd.to_datetime(data['Date_Received'])\n",
    "\n",
    "\n",
    "    data[data['Province/State'] != 'California']\n",
    "    return data\n",
    "\n",
    "# Here is the sample of how you can use it.\n",
    "clean_data = data_cleaning_4_raw(data)"
   ]
  },
  {
   "cell_type": "code",
   "execution_count": 116,
   "id": "20d1da61-fb75-41aa-80a0-317162c84f7b",
   "metadata": {},
   "outputs": [
    {
     "data": {
      "text/plain": [
       "array(['Attempt', 'Victim', 'Other', 'Unknown', 'Incomplete'],\n",
       "      dtype=object)"
      ]
     },
     "execution_count": 116,
     "metadata": {},
     "output_type": "execute_result"
    }
   ],
   "source": [
    "clean_data['Complaint Type'].unique()"
   ]
  },
  {
   "cell_type": "code",
   "execution_count": 118,
   "id": "15f6a02a-f07b-4679-ad2d-2c4fb8e80343",
   "metadata": {},
   "outputs": [],
   "source": [
    "clean_data.head()\n",
    "clean_data.set_index('Date_Received', inplace=True)"
   ]
  },
  {
   "cell_type": "code",
   "execution_count": 120,
   "id": "0f4d1c81-1dbc-43cd-abba-dda32c3e5e76",
   "metadata": {},
   "outputs": [
    {
     "data": {
      "text/html": [
       "<div>\n",
       "<style scoped>\n",
       "    .dataframe tbody tr th:only-of-type {\n",
       "        vertical-align: middle;\n",
       "    }\n",
       "\n",
       "    .dataframe tbody tr th {\n",
       "        vertical-align: top;\n",
       "    }\n",
       "\n",
       "    .dataframe thead th {\n",
       "        text-align: right;\n",
       "    }\n",
       "</style>\n",
       "<table border=\"1\" class=\"dataframe\">\n",
       "  <thead>\n",
       "    <tr style=\"text-align: right;\">\n",
       "      <th></th>\n",
       "      <th>Number_ID</th>\n",
       "      <th>Complaint Received Type</th>\n",
       "      <th>Country</th>\n",
       "      <th>Pays</th>\n",
       "      <th>Province/State</th>\n",
       "      <th>Fraud_and_Cybercrime_Thematic_Categories</th>\n",
       "      <th>Solicitation Method</th>\n",
       "      <th>Gender</th>\n",
       "      <th>Language of Correspondence</th>\n",
       "      <th>Victim_Age_Range</th>\n",
       "      <th>Complaint Type</th>\n",
       "      <th>Number_of_Victims</th>\n",
       "      <th>Dollar_Loss</th>\n",
       "    </tr>\n",
       "    <tr>\n",
       "      <th>Date_Received</th>\n",
       "      <th></th>\n",
       "      <th></th>\n",
       "      <th></th>\n",
       "      <th></th>\n",
       "      <th></th>\n",
       "      <th></th>\n",
       "      <th></th>\n",
       "      <th></th>\n",
       "      <th></th>\n",
       "      <th></th>\n",
       "      <th></th>\n",
       "      <th></th>\n",
       "      <th></th>\n",
       "    </tr>\n",
       "  </thead>\n",
       "  <tbody>\n",
       "    <tr>\n",
       "      <th>2021-01-02</th>\n",
       "      <td>1</td>\n",
       "      <td>CAFC Website</td>\n",
       "      <td>Canada</td>\n",
       "      <td>Canada</td>\n",
       "      <td>Saskatchewan</td>\n",
       "      <td>Merchandise</td>\n",
       "      <td>Other/unknown</td>\n",
       "      <td>Not Available</td>\n",
       "      <td>Not Available</td>\n",
       "      <td>'Not Available / non disponible</td>\n",
       "      <td>Attempt</td>\n",
       "      <td>0</td>\n",
       "      <td>0.00</td>\n",
       "    </tr>\n",
       "    <tr>\n",
       "      <th>2021-01-02</th>\n",
       "      <td>3</td>\n",
       "      <td>CAFC Website</td>\n",
       "      <td>Canada</td>\n",
       "      <td>Canada</td>\n",
       "      <td>Quebec</td>\n",
       "      <td>Identity Fraud</td>\n",
       "      <td>Other/unknown</td>\n",
       "      <td>Male</td>\n",
       "      <td>French</td>\n",
       "      <td>'40 - 49</td>\n",
       "      <td>Victim</td>\n",
       "      <td>1</td>\n",
       "      <td>0.00</td>\n",
       "    </tr>\n",
       "    <tr>\n",
       "      <th>2021-01-02</th>\n",
       "      <td>4</td>\n",
       "      <td>CAFC Website</td>\n",
       "      <td>Canada</td>\n",
       "      <td>Canada</td>\n",
       "      <td>Saskatchewan</td>\n",
       "      <td>Phishing</td>\n",
       "      <td>Email</td>\n",
       "      <td>Male</td>\n",
       "      <td>English</td>\n",
       "      <td>'30 - 39</td>\n",
       "      <td>Victim</td>\n",
       "      <td>1</td>\n",
       "      <td>0.00</td>\n",
       "    </tr>\n",
       "    <tr>\n",
       "      <th>2021-01-02</th>\n",
       "      <td>5</td>\n",
       "      <td>CAFC Website</td>\n",
       "      <td>Canada</td>\n",
       "      <td>Canada</td>\n",
       "      <td>Saskatchewan</td>\n",
       "      <td>Merchandise</td>\n",
       "      <td>Other/unknown</td>\n",
       "      <td>Male</td>\n",
       "      <td>Not Available</td>\n",
       "      <td>'60 - 69</td>\n",
       "      <td>Victim</td>\n",
       "      <td>1</td>\n",
       "      <td>222.73</td>\n",
       "    </tr>\n",
       "    <tr>\n",
       "      <th>2021-01-02</th>\n",
       "      <td>6</td>\n",
       "      <td>CAFC Website</td>\n",
       "      <td>Canada</td>\n",
       "      <td>Canada</td>\n",
       "      <td>Ontario</td>\n",
       "      <td>Phishing</td>\n",
       "      <td>Text message</td>\n",
       "      <td>Male</td>\n",
       "      <td>English</td>\n",
       "      <td>'30 - 39</td>\n",
       "      <td>Attempt</td>\n",
       "      <td>0</td>\n",
       "      <td>0.00</td>\n",
       "    </tr>\n",
       "    <tr>\n",
       "      <th>...</th>\n",
       "      <td>...</td>\n",
       "      <td>...</td>\n",
       "      <td>...</td>\n",
       "      <td>...</td>\n",
       "      <td>...</td>\n",
       "      <td>...</td>\n",
       "      <td>...</td>\n",
       "      <td>...</td>\n",
       "      <td>...</td>\n",
       "      <td>...</td>\n",
       "      <td>...</td>\n",
       "      <td>...</td>\n",
       "      <td>...</td>\n",
       "    </tr>\n",
       "    <tr>\n",
       "      <th>2024-06-28</th>\n",
       "      <td>285849</td>\n",
       "      <td>Phone</td>\n",
       "      <td>Canada</td>\n",
       "      <td>Canada</td>\n",
       "      <td>Ontario</td>\n",
       "      <td>Bank Investigator</td>\n",
       "      <td>Direct call</td>\n",
       "      <td>Female</td>\n",
       "      <td>English</td>\n",
       "      <td>'50 - 59</td>\n",
       "      <td>Victim</td>\n",
       "      <td>1</td>\n",
       "      <td>42908.00</td>\n",
       "    </tr>\n",
       "    <tr>\n",
       "      <th>2024-06-28</th>\n",
       "      <td>285850</td>\n",
       "      <td>Phone</td>\n",
       "      <td>Canada</td>\n",
       "      <td>Canada</td>\n",
       "      <td>Ontario</td>\n",
       "      <td>Service</td>\n",
       "      <td>Internet-social network</td>\n",
       "      <td>Male</td>\n",
       "      <td>English</td>\n",
       "      <td>'30 - 39</td>\n",
       "      <td>Victim</td>\n",
       "      <td>1</td>\n",
       "      <td>0.00</td>\n",
       "    </tr>\n",
       "    <tr>\n",
       "      <th>2024-06-28</th>\n",
       "      <td>285851</td>\n",
       "      <td>Phone</td>\n",
       "      <td>Canada</td>\n",
       "      <td>Canada</td>\n",
       "      <td>Quebec</td>\n",
       "      <td>Service</td>\n",
       "      <td>Internet</td>\n",
       "      <td>Male</td>\n",
       "      <td>French</td>\n",
       "      <td>'60 - 69</td>\n",
       "      <td>Victim</td>\n",
       "      <td>1</td>\n",
       "      <td>0.00</td>\n",
       "    </tr>\n",
       "    <tr>\n",
       "      <th>2024-06-28</th>\n",
       "      <td>285852</td>\n",
       "      <td>Phone</td>\n",
       "      <td>Canada</td>\n",
       "      <td>Canada</td>\n",
       "      <td>Quebec</td>\n",
       "      <td>Identity Fraud</td>\n",
       "      <td>Other/unknown</td>\n",
       "      <td>Male</td>\n",
       "      <td>French</td>\n",
       "      <td>'40 - 49</td>\n",
       "      <td>Victim</td>\n",
       "      <td>1</td>\n",
       "      <td>0.00</td>\n",
       "    </tr>\n",
       "    <tr>\n",
       "      <th>2024-06-28</th>\n",
       "      <td>285855</td>\n",
       "      <td>Email</td>\n",
       "      <td>Canada</td>\n",
       "      <td>Canada</td>\n",
       "      <td>Ontario</td>\n",
       "      <td>Identity Fraud</td>\n",
       "      <td>Other/unknown</td>\n",
       "      <td>Male</td>\n",
       "      <td>English</td>\n",
       "      <td>'Not Available / non disponible</td>\n",
       "      <td>Victim</td>\n",
       "      <td>1</td>\n",
       "      <td>0.00</td>\n",
       "    </tr>\n",
       "  </tbody>\n",
       "</table>\n",
       "<p>216345 rows × 13 columns</p>\n",
       "</div>"
      ],
      "text/plain": [
       "               Number_ID Complaint Received Type Country    Pays  \\\n",
       "Date_Received                                                      \n",
       "2021-01-02             1            CAFC Website  Canada  Canada   \n",
       "2021-01-02             3            CAFC Website  Canada  Canada   \n",
       "2021-01-02             4            CAFC Website  Canada  Canada   \n",
       "2021-01-02             5            CAFC Website  Canada  Canada   \n",
       "2021-01-02             6            CAFC Website  Canada  Canada   \n",
       "...                  ...                     ...     ...     ...   \n",
       "2024-06-28        285849                   Phone  Canada  Canada   \n",
       "2024-06-28        285850                   Phone  Canada  Canada   \n",
       "2024-06-28        285851                   Phone  Canada  Canada   \n",
       "2024-06-28        285852                   Phone  Canada  Canada   \n",
       "2024-06-28        285855                   Email  Canada  Canada   \n",
       "\n",
       "              Province/State Fraud_and_Cybercrime_Thematic_Categories  \\\n",
       "Date_Received                                                           \n",
       "2021-01-02      Saskatchewan                              Merchandise   \n",
       "2021-01-02            Quebec                           Identity Fraud   \n",
       "2021-01-02      Saskatchewan                                 Phishing   \n",
       "2021-01-02      Saskatchewan                              Merchandise   \n",
       "2021-01-02           Ontario                                 Phishing   \n",
       "...                      ...                                      ...   \n",
       "2024-06-28           Ontario                        Bank Investigator   \n",
       "2024-06-28           Ontario                                  Service   \n",
       "2024-06-28            Quebec                                  Service   \n",
       "2024-06-28            Quebec                           Identity Fraud   \n",
       "2024-06-28           Ontario                           Identity Fraud   \n",
       "\n",
       "                   Solicitation Method         Gender  \\\n",
       "Date_Received                                           \n",
       "2021-01-02               Other/unknown  Not Available   \n",
       "2021-01-02               Other/unknown           Male   \n",
       "2021-01-02                       Email           Male   \n",
       "2021-01-02               Other/unknown           Male   \n",
       "2021-01-02                Text message           Male   \n",
       "...                                ...            ...   \n",
       "2024-06-28                 Direct call         Female   \n",
       "2024-06-28     Internet-social network           Male   \n",
       "2024-06-28                    Internet           Male   \n",
       "2024-06-28               Other/unknown           Male   \n",
       "2024-06-28               Other/unknown           Male   \n",
       "\n",
       "              Language of Correspondence                 Victim_Age_Range  \\\n",
       "Date_Received                                                               \n",
       "2021-01-02                 Not Available  'Not Available / non disponible   \n",
       "2021-01-02                        French                         '40 - 49   \n",
       "2021-01-02                       English                         '30 - 39   \n",
       "2021-01-02                 Not Available                         '60 - 69   \n",
       "2021-01-02                       English                         '30 - 39   \n",
       "...                                  ...                              ...   \n",
       "2024-06-28                       English                         '50 - 59   \n",
       "2024-06-28                       English                         '30 - 39   \n",
       "2024-06-28                        French                         '60 - 69   \n",
       "2024-06-28                        French                         '40 - 49   \n",
       "2024-06-28                       English  'Not Available / non disponible   \n",
       "\n",
       "              Complaint Type  Number_of_Victims  Dollar_Loss  \n",
       "Date_Received                                                 \n",
       "2021-01-02           Attempt                  0         0.00  \n",
       "2021-01-02            Victim                  1         0.00  \n",
       "2021-01-02            Victim                  1         0.00  \n",
       "2021-01-02            Victim                  1       222.73  \n",
       "2021-01-02           Attempt                  0         0.00  \n",
       "...                      ...                ...          ...  \n",
       "2024-06-28            Victim                  1     42908.00  \n",
       "2024-06-28            Victim                  1         0.00  \n",
       "2024-06-28            Victim                  1         0.00  \n",
       "2024-06-28            Victim                  1         0.00  \n",
       "2024-06-28            Victim                  1         0.00  \n",
       "\n",
       "[216345 rows x 13 columns]"
      ]
     },
     "execution_count": 120,
     "metadata": {},
     "output_type": "execute_result"
    }
   ],
   "source": [
    "clean_data"
   ]
  },
  {
   "cell_type": "code",
   "execution_count": 122,
   "id": "4968571b-6b01-4b16-9702-40e2f19b7834",
   "metadata": {},
   "outputs": [
    {
     "name": "stdout",
     "output_type": "stream",
     "text": [
      "Numero d'identification / Number ID                             int64\n",
      "Date Received / Date recue                                     object\n",
      "Complaint Received Type                                        object\n",
      "Type de plainte recue                                          object\n",
      "Country                                                        object\n",
      "Pays                                                           object\n",
      "Province/State                                                 object\n",
      "Province/Etat                                                  object\n",
      "Fraud and Cybercrime Thematic Categories                       object\n",
      "Categories thematiques sur la fraude et la cybercriminalite    object\n",
      "Solicitation Method                                            object\n",
      "Methode de sollicitation                                       object\n",
      "Gender                                                         object\n",
      "Genre                                                          object\n",
      "Language of Correspondence                                     object\n",
      "Langue de correspondance                                       object\n",
      "Victim Age Range / Tranche d'age des victimes                  object\n",
      "Complaint Type                                                 object\n",
      "Type de plainte                                                object\n",
      "Number of Victims / Nombre de victimes                          int64\n",
      "Dollar Loss /pertes financieres                                object\n",
      "dtype: object\n"
     ]
    },
    {
     "name": "stderr",
     "output_type": "stream",
     "text": [
      "/var/folders/qh/h818hm851ln4ccffmg5hn54w0000gn/T/ipykernel_4206/3070512719.py:15: SettingWithCopyWarning:\n",
      "\n",
      "\n",
      "A value is trying to be set on a copy of a slice from a DataFrame\n",
      "\n",
      "See the caveats in the documentation: https://pandas.pydata.org/pandas-docs/stable/user_guide/indexing.html#returning-a-view-versus-a-copy\n",
      "\n",
      "/var/folders/qh/h818hm851ln4ccffmg5hn54w0000gn/T/ipykernel_4206/3070512719.py:25: SettingWithCopyWarning:\n",
      "\n",
      "\n",
      "A value is trying to be set on a copy of a slice from a DataFrame\n",
      "\n",
      "See the caveats in the documentation: https://pandas.pydata.org/pandas-docs/stable/user_guide/indexing.html#returning-a-view-versus-a-copy\n",
      "\n",
      "/var/folders/qh/h818hm851ln4ccffmg5hn54w0000gn/T/ipykernel_4206/3070512719.py:31: SettingWithCopyWarning:\n",
      "\n",
      "\n",
      "A value is trying to be set on a copy of a slice from a DataFrame.\n",
      "Try using .loc[row_indexer,col_indexer] = value instead\n",
      "\n",
      "See the caveats in the documentation: https://pandas.pydata.org/pandas-docs/stable/user_guide/indexing.html#returning-a-view-versus-a-copy\n",
      "\n",
      "/var/folders/qh/h818hm851ln4ccffmg5hn54w0000gn/T/ipykernel_4206/3070512719.py:32: SettingWithCopyWarning:\n",
      "\n",
      "\n",
      "A value is trying to be set on a copy of a slice from a DataFrame.\n",
      "Try using .loc[row_indexer,col_indexer] = value instead\n",
      "\n",
      "See the caveats in the documentation: https://pandas.pydata.org/pandas-docs/stable/user_guide/indexing.html#returning-a-view-versus-a-copy\n",
      "\n"
     ]
    }
   ],
   "source": [
    "df = data_cleaning_4_raw(data)\n",
    "print(data.dtypes)\n"
   ]
  },
  {
   "cell_type": "code",
   "execution_count": 124,
   "id": "576804cb-6287-4082-ad2a-d4f874da899a",
   "metadata": {},
   "outputs": [
    {
     "name": "stdout",
     "output_type": "stream",
     "text": [
      "0\n"
     ]
    }
   ],
   "source": [
    "# Remove any non-numeric characters\n",
    "clean_data['Dollar_Loss'] = clean_data['Dollar_Loss'].replace({'$': '', ',': ''}, regex=True)\n",
    "\n",
    "# Convert the column to numeric, forcing any non-convertible values to NaN\n",
    "clean_data['Dollar_Loss'] = pd.to_numeric(clean_data['Dollar_Loss'], errors='coerce')\n",
    "\n",
    "# Check for NaN values\n",
    "print(clean_data['Dollar_Loss'].isna().sum())\n",
    "\n",
    "\n"
   ]
  },
  {
   "cell_type": "markdown",
   "id": "97c083dd-159b-4a7b-b486-dd26ad9c2ea6",
   "metadata": {},
   "source": [
    "## Financial Analysis:"
   ]
  },
  {
   "cell_type": "markdown",
   "id": "60a400ee-ef4f-4fe7-b12c-b760f3eeaf1f",
   "metadata": {},
   "source": [
    "### Financial analysis by Gender:"
   ]
  },
  {
   "cell_type": "markdown",
   "id": "97cb67af-1568-42b5-b355-aa6ed413a882",
   "metadata": {},
   "source": [
    "Data Exploration"
   ]
  },
  {
   "cell_type": "code",
   "execution_count": 126,
   "id": "9946cb30-7619-4e23-9bb5-e535abb4b803",
   "metadata": {},
   "outputs": [
    {
     "name": "stdout",
     "output_type": "stream",
     "text": [
      "count    2.163450e+05\n",
      "mean     6.317350e+03\n",
      "std      1.007662e+05\n",
      "min      0.000000e+00\n",
      "25%      0.000000e+00\n",
      "50%      0.000000e+00\n",
      "75%      0.000000e+00\n",
      "max      2.361500e+07\n",
      "Name: Dollar_Loss, dtype: float64\n"
     ]
    }
   ],
   "source": [
    "print(clean_data['Dollar_Loss'].describe())\n"
   ]
  },
  {
   "cell_type": "code",
   "execution_count": 128,
   "id": "0812d4e1-f775-429d-8276-29decc9f37e1",
   "metadata": {},
   "outputs": [
    {
     "name": "stdout",
     "output_type": "stream",
     "text": [
      "              Gender   Dollar_Loss\n",
      "0             Female   4599.584650\n",
      "1               Male   6253.400837\n",
      "2      Not Available  14758.530669\n",
      "3              Other   1533.931863\n",
      "4  Prefer not to say   2258.122010\n",
      "5            Unknown   7273.398565\n"
     ]
    }
   ],
   "source": [
    "gender_loss = clean_data.groupby('Gender')['Dollar_Loss'].mean().reset_index()\n",
    "print(gender_loss)"
   ]
  },
  {
   "cell_type": "code",
   "execution_count": 170,
   "id": "6ee4e9a0-bfea-4eda-9297-03c42f3224c0",
   "metadata": {},
   "outputs": [
    {
     "name": "stderr",
     "output_type": "stream",
     "text": [
      "/var/folders/qh/h818hm851ln4ccffmg5hn54w0000gn/T/ipykernel_4206/415677843.py:2: FutureWarning:\n",
      "\n",
      "\n",
      "\n",
      "Passing `palette` without assigning `hue` is deprecated and will be removed in v0.14.0. Assign the `x` variable to `hue` and set `legend=False` for the same effect.\n",
      "\n",
      "\n"
     ]
    },
    {
     "data": {
      "image/png": "[encoded data removed]",
      "text/plain": [
       "<Figure size 1000x600 with 1 Axes>"
      ]
     },
     "metadata": {},
     "output_type": "display_data"
    }
   ],
   "source": [
    "plt.figure(figsize=(10, 6))\n",
    "sns.barplot(x='Gender', y='Dollar_Loss', data=gender_loss,palette='Set2')  # Using a predefined color palette\n",
    "plt.title('Average Financial Loss by Gender')\n",
    "plt.xlabel('Gender')\n",
    "plt.ylabel('Average Financial Loss ($)')\n",
    "plt.show()\n"
   ]
  },
  {
   "cell_type": "code",
   "execution_count": 159,
   "id": "007d3409-c258-46f8-8aec-fb6012de4138",
   "metadata": {},
   "outputs": [
    {
     "data": {
      "image/png": "[encoded data removed]",
      "text/plain": [
       "<Figure size 800x800 with 1 Axes>"
      ]
     },
     "metadata": {},
     "output_type": "display_data"
    }
   ],
   "source": [
    "\n",
    "# Prepare data for the pie chart\n",
    "labels = gender_loss['Gender']\n",
    "sizes = gender_loss['Dollar_Loss']\n",
    "\n",
    "# Create the pie chart\n",
    "plt.figure(figsize=(8, 8))\n",
    "plt.pie(sizes, labels=labels, autopct='%1.1f%%', startangle=90, colors=['lightblue', 'lightgreen', 'lightcoral','lightyellow','lightpink','violet'])\n",
    "plt.title('Average Financial Loss by Gender proportion')\n",
    "plt.axis('equal')  # Equal aspect ratio ensures that pie is drawn as a circle.\n",
    "plt.show()"
   ]
  },
  {
   "cell_type": "markdown",
   "id": "62c7c15e-1f57-4fd8-92c9-e9aac5fb6d7e",
   "metadata": {},
   "source": [
    "From the above finding, The proportion of male is more compared to other genders. Also the dollar loss is more for male, 6253 dollars on an average."
   ]
  },
  {
   "cell_type": "markdown",
   "id": "1dc01030-ce8e-4041-8004-94e48a35ad78",
   "metadata": {},
   "source": [
    "# Province anaylsis:"
   ]
  },
  {
   "cell_type": "code",
   "execution_count": 132,
   "id": "30fbad7d-ef5f-4e85-b7f5-f4908014089b",
   "metadata": {},
   "outputs": [],
   "source": [
    "province_id= clean_data['Province/State'].unique()"
   ]
  },
  {
   "cell_type": "code",
   "execution_count": 134,
   "id": "907c9765-52b4-47db-ae59-e42b39c3df17",
   "metadata": {},
   "outputs": [
    {
     "data": {
      "text/plain": [
       "array(['Saskatchewan', 'Quebec', 'Ontario', 'British Columbia', 'Yukon',\n",
       "       'Alberta', 'Manitoba', 'Prince Edward Island',\n",
       "       'Newfoundland And Labrador', 'Nova Scotia', 'New Brunswick',\n",
       "       'Not Specified', 'North West Territories', 'Nunavut'], dtype=object)"
      ]
     },
     "execution_count": 134,
     "metadata": {},
     "output_type": "execute_result"
    }
   ],
   "source": [
    "province_id"
   ]
  },
  {
   "cell_type": "code",
   "execution_count": 138,
   "id": "99924fd0-986b-4bfc-9d85-8e6c20a8d5cf",
   "metadata": {},
   "outputs": [],
   "source": [
    "province_loss = clean_data.groupby('Province/State')['Dollar_Loss'].mean().reset_index().sort_values(by='Dollar_Loss',ascending=False)"
   ]
  },
  {
   "cell_type": "code",
   "execution_count": 140,
   "id": "c251bc5b-8b23-4016-b9fb-6b1f111ae33b",
   "metadata": {},
   "outputs": [
    {
     "data": {
      "text/html": [
       "<div>\n",
       "<style scoped>\n",
       "    .dataframe tbody tr th:only-of-type {\n",
       "        vertical-align: middle;\n",
       "    }\n",
       "\n",
       "    .dataframe tbody tr th {\n",
       "        vertical-align: top;\n",
       "    }\n",
       "\n",
       "    .dataframe thead th {\n",
       "        text-align: right;\n",
       "    }\n",
       "</style>\n",
       "<table border=\"1\" class=\"dataframe\">\n",
       "  <thead>\n",
       "    <tr style=\"text-align: right;\">\n",
       "      <th></th>\n",
       "      <th>Province/State</th>\n",
       "      <th>Dollar_Loss</th>\n",
       "    </tr>\n",
       "  </thead>\n",
       "  <tbody>\n",
       "    <tr>\n",
       "      <th>1</th>\n",
       "      <td>British Columbia</td>\n",
       "      <td>8705.023650</td>\n",
       "    </tr>\n",
       "    <tr>\n",
       "      <th>9</th>\n",
       "      <td>Ontario</td>\n",
       "      <td>8103.913469</td>\n",
       "    </tr>\n",
       "    <tr>\n",
       "      <th>2</th>\n",
       "      <td>Manitoba</td>\n",
       "      <td>7750.831276</td>\n",
       "    </tr>\n",
       "    <tr>\n",
       "      <th>0</th>\n",
       "      <td>Alberta</td>\n",
       "      <td>7481.739015</td>\n",
       "    </tr>\n",
       "    <tr>\n",
       "      <th>5</th>\n",
       "      <td>North West Territories</td>\n",
       "      <td>6192.531242</td>\n",
       "    </tr>\n",
       "    <tr>\n",
       "      <th>8</th>\n",
       "      <td>Nunavut</td>\n",
       "      <td>6078.672289</td>\n",
       "    </tr>\n",
       "    <tr>\n",
       "      <th>12</th>\n",
       "      <td>Saskatchewan</td>\n",
       "      <td>5714.541442</td>\n",
       "    </tr>\n",
       "    <tr>\n",
       "      <th>4</th>\n",
       "      <td>Newfoundland And Labrador</td>\n",
       "      <td>4478.600804</td>\n",
       "    </tr>\n",
       "    <tr>\n",
       "      <th>6</th>\n",
       "      <td>Not Specified</td>\n",
       "      <td>4473.498767</td>\n",
       "    </tr>\n",
       "    <tr>\n",
       "      <th>3</th>\n",
       "      <td>New Brunswick</td>\n",
       "      <td>4187.285279</td>\n",
       "    </tr>\n",
       "    <tr>\n",
       "      <th>13</th>\n",
       "      <td>Yukon</td>\n",
       "      <td>4068.615176</td>\n",
       "    </tr>\n",
       "    <tr>\n",
       "      <th>7</th>\n",
       "      <td>Nova Scotia</td>\n",
       "      <td>3800.000030</td>\n",
       "    </tr>\n",
       "    <tr>\n",
       "      <th>10</th>\n",
       "      <td>Prince Edward Island</td>\n",
       "      <td>3064.577446</td>\n",
       "    </tr>\n",
       "    <tr>\n",
       "      <th>11</th>\n",
       "      <td>Quebec</td>\n",
       "      <td>2574.966807</td>\n",
       "    </tr>\n",
       "  </tbody>\n",
       "</table>\n",
       "</div>"
      ],
      "text/plain": [
       "               Province/State  Dollar_Loss\n",
       "1            British Columbia  8705.023650\n",
       "9                     Ontario  8103.913469\n",
       "2                    Manitoba  7750.831276\n",
       "0                     Alberta  7481.739015\n",
       "5      North West Territories  6192.531242\n",
       "8                     Nunavut  6078.672289\n",
       "12               Saskatchewan  5714.541442\n",
       "4   Newfoundland And Labrador  4478.600804\n",
       "6               Not Specified  4473.498767\n",
       "3               New Brunswick  4187.285279\n",
       "13                      Yukon  4068.615176\n",
       "7                 Nova Scotia  3800.000030\n",
       "10       Prince Edward Island  3064.577446\n",
       "11                     Quebec  2574.966807"
      ]
     },
     "execution_count": 140,
     "metadata": {},
     "output_type": "execute_result"
    }
   ],
   "source": [
    "province_loss"
   ]
  },
  {
   "cell_type": "code",
   "execution_count": 142,
   "id": "a4cb201a-57bb-4c5f-b9b3-4be6bed7cd5c",
   "metadata": {},
   "outputs": [
    {
     "data": {
      "image/png": "[encoded data removed]",
      "text/plain": [
       "<Figure size 1400x700 with 1 Axes>"
      ]
     },
     "metadata": {},
     "output_type": "display_data"
    }
   ],
   "source": [
    "\n",
    "plt.figure(figsize=(14, 7))\n",
    "\n",
    "palette = sns.color_palette(\"Blues_r\", len(province_loss))\n",
    "\n",
    "sns.barplot(x='Province/State', y='Dollar_Loss', hue='Province/State', data=province_loss, palette=palette, dodge=False)\n",
    "plt.legend([],[], frameon=False)  \n",
    "\n",
    "plt.title('Total Financial Loss by Province', fontsize=16, fontweight='bold')\n",
    "plt.xlabel('Province', fontsize=14, fontweight='bold')\n",
    "plt.ylabel('Total Financial Loss ($)', fontsize=14, fontweight='bold')\n",
    "\n",
    "\n",
    "plt.xticks(rotation=30, ha='right', fontsize=12, fontweight='bold')  \n",
    "\n",
    "\n",
    "plt.gca().patch.set_facecolor('white')  \n",
    "bars = plt.gca().patches\n",
    "for bar in bars:\n",
    "    bar.set_width(0.8)  \n",
    "\n",
    "for index, value in enumerate(province_loss['Dollar_Loss']):\n",
    "    plt.text(index, value + 500, f'${value:,.0f}', ha='center', fontsize=10, color='black', fontweight='bold')\n",
    "\n",
    "\n",
    "plt.grid(True, axis='y', linestyle='--', alpha=0.7)\n",
    "\n",
    "\n",
    "plt.tight_layout()\n",
    "\n",
    "plt.show()\n",
    "\n",
    "\n"
   ]
  },
  {
   "cell_type": "markdown",
   "id": "18b81bb4-ec51-4f4b-962c-70295842160d",
   "metadata": {},
   "source": [
    "From the above findings, on an average, the british columbia, is the one who is highly affected while the surprising thing is quebec which has lowest although they have many industry and a big population."
   ]
  },
  {
   "cell_type": "code",
   "execution_count": 71,
   "id": "5e1568dd-fdde-44fa-a4d3-67835b781833",
   "metadata": {},
   "outputs": [],
   "source": [
    "age_range= clean_data['Victim_Age_Range'].unique()"
   ]
  },
  {
   "cell_type": "code",
   "execution_count": 73,
   "id": "1799758e-d418-4a48-86ae-dee27a064afc",
   "metadata": {},
   "outputs": [
    {
     "data": {
      "text/plain": [
       "array([\"'Not Available / non disponible\", \"'40 - 49\", \"'30 - 39\",\n",
       "       \"'60 - 69\", \"'70 - 79\", \"'10 - 19\", \"'20 - 29\", \"'50 - 59\",\n",
       "       \"'80 - 89\", \"'1 - 9\", \"'Deceased / Décédé\", \"'90 - 99\", \"'100 +\",\n",
       "       \"'Business / Entreprise\"], dtype=object)"
      ]
     },
     "execution_count": 73,
     "metadata": {},
     "output_type": "execute_result"
    }
   ],
   "source": [
    "age_range"
   ]
  },
  {
   "cell_type": "code",
   "execution_count": 75,
   "id": "1211d638-4322-40c9-b659-3145f3287cd6",
   "metadata": {},
   "outputs": [
    {
     "data": {
      "text/html": [
       "<div>\n",
       "<style scoped>\n",
       "    .dataframe tbody tr th:only-of-type {\n",
       "        vertical-align: middle;\n",
       "    }\n",
       "\n",
       "    .dataframe tbody tr th {\n",
       "        vertical-align: top;\n",
       "    }\n",
       "\n",
       "    .dataframe thead th {\n",
       "        text-align: right;\n",
       "    }\n",
       "</style>\n",
       "<table border=\"1\" class=\"dataframe\">\n",
       "  <thead>\n",
       "    <tr style=\"text-align: right;\">\n",
       "      <th></th>\n",
       "      <th>Victim_Age_Range</th>\n",
       "      <th>Dollar_Loss</th>\n",
       "    </tr>\n",
       "  </thead>\n",
       "  <tbody>\n",
       "    <tr>\n",
       "      <th>0</th>\n",
       "      <td>'1 - 9</td>\n",
       "      <td>1302.578562</td>\n",
       "    </tr>\n",
       "    <tr>\n",
       "      <th>1</th>\n",
       "      <td>'10 - 19</td>\n",
       "      <td>625.572225</td>\n",
       "    </tr>\n",
       "    <tr>\n",
       "      <th>2</th>\n",
       "      <td>'100 +</td>\n",
       "      <td>1925.905192</td>\n",
       "    </tr>\n",
       "    <tr>\n",
       "      <th>3</th>\n",
       "      <td>'20 - 29</td>\n",
       "      <td>1750.199283</td>\n",
       "    </tr>\n",
       "    <tr>\n",
       "      <th>4</th>\n",
       "      <td>'30 - 39</td>\n",
       "      <td>3067.813363</td>\n",
       "    </tr>\n",
       "    <tr>\n",
       "      <th>5</th>\n",
       "      <td>'40 - 49</td>\n",
       "      <td>5815.443867</td>\n",
       "    </tr>\n",
       "    <tr>\n",
       "      <th>6</th>\n",
       "      <td>'50 - 59</td>\n",
       "      <td>8434.209976</td>\n",
       "    </tr>\n",
       "    <tr>\n",
       "      <th>7</th>\n",
       "      <td>'60 - 69</td>\n",
       "      <td>8162.885312</td>\n",
       "    </tr>\n",
       "    <tr>\n",
       "      <th>8</th>\n",
       "      <td>'70 - 79</td>\n",
       "      <td>7647.480442</td>\n",
       "    </tr>\n",
       "    <tr>\n",
       "      <th>9</th>\n",
       "      <td>'80 - 89</td>\n",
       "      <td>5783.455192</td>\n",
       "    </tr>\n",
       "    <tr>\n",
       "      <th>10</th>\n",
       "      <td>'90 - 99</td>\n",
       "      <td>3404.891505</td>\n",
       "    </tr>\n",
       "    <tr>\n",
       "      <th>11</th>\n",
       "      <td>'Business / Entreprise</td>\n",
       "      <td>6659.596667</td>\n",
       "    </tr>\n",
       "    <tr>\n",
       "      <th>12</th>\n",
       "      <td>'Deceased / Décédé</td>\n",
       "      <td>17926.097286</td>\n",
       "    </tr>\n",
       "    <tr>\n",
       "      <th>13</th>\n",
       "      <td>'Not Available / non disponible</td>\n",
       "      <td>14351.248626</td>\n",
       "    </tr>\n",
       "  </tbody>\n",
       "</table>\n",
       "</div>"
      ],
      "text/plain": [
       "                   Victim_Age_Range   Dollar_Loss\n",
       "0                            '1 - 9   1302.578562\n",
       "1                          '10 - 19    625.572225\n",
       "2                            '100 +   1925.905192\n",
       "3                          '20 - 29   1750.199283\n",
       "4                          '30 - 39   3067.813363\n",
       "5                          '40 - 49   5815.443867\n",
       "6                          '50 - 59   8434.209976\n",
       "7                          '60 - 69   8162.885312\n",
       "8                          '70 - 79   7647.480442\n",
       "9                          '80 - 89   5783.455192\n",
       "10                         '90 - 99   3404.891505\n",
       "11           'Business / Entreprise   6659.596667\n",
       "12               'Deceased / Décédé  17926.097286\n",
       "13  'Not Available / non disponible  14351.248626"
      ]
     },
     "execution_count": 75,
     "metadata": {},
     "output_type": "execute_result"
    }
   ],
   "source": [
    "age_range_id = clean_data.groupby('Victim_Age_Range')['Dollar_Loss'].mean().reset_index()\n",
    "age_range_id"
   ]
  },
  {
   "cell_type": "code",
   "execution_count": 104,
   "id": "291fd64d-3492-4cb0-a057-cd1d009e879c",
   "metadata": {},
   "outputs": [
    {
     "data": {
      "text/html": [
       "<div>\n",
       "<style scoped>\n",
       "    .dataframe tbody tr th:only-of-type {\n",
       "        vertical-align: middle;\n",
       "    }\n",
       "\n",
       "    .dataframe tbody tr th {\n",
       "        vertical-align: top;\n",
       "    }\n",
       "\n",
       "    .dataframe thead th {\n",
       "        text-align: right;\n",
       "    }\n",
       "</style>\n",
       "<table border=\"1\" class=\"dataframe\">\n",
       "  <thead>\n",
       "    <tr style=\"text-align: right;\">\n",
       "      <th></th>\n",
       "      <th>Victim_Age_Range</th>\n",
       "      <th>Dollar_Loss</th>\n",
       "    </tr>\n",
       "  </thead>\n",
       "  <tbody>\n",
       "    <tr>\n",
       "      <th>1</th>\n",
       "      <td>'10 - 19</td>\n",
       "      <td>625.572225</td>\n",
       "    </tr>\n",
       "    <tr>\n",
       "      <th>2</th>\n",
       "      <td>'100 +</td>\n",
       "      <td>1925.905192</td>\n",
       "    </tr>\n",
       "    <tr>\n",
       "      <th>3</th>\n",
       "      <td>'20 - 29</td>\n",
       "      <td>1750.199283</td>\n",
       "    </tr>\n",
       "    <tr>\n",
       "      <th>4</th>\n",
       "      <td>'30 - 39</td>\n",
       "      <td>3067.813363</td>\n",
       "    </tr>\n",
       "    <tr>\n",
       "      <th>5</th>\n",
       "      <td>'40 - 49</td>\n",
       "      <td>5815.443867</td>\n",
       "    </tr>\n",
       "    <tr>\n",
       "      <th>6</th>\n",
       "      <td>'50 - 59</td>\n",
       "      <td>8434.209976</td>\n",
       "    </tr>\n",
       "    <tr>\n",
       "      <th>7</th>\n",
       "      <td>'60 - 69</td>\n",
       "      <td>8162.885312</td>\n",
       "    </tr>\n",
       "    <tr>\n",
       "      <th>8</th>\n",
       "      <td>'70 - 79</td>\n",
       "      <td>7647.480442</td>\n",
       "    </tr>\n",
       "    <tr>\n",
       "      <th>9</th>\n",
       "      <td>'80 - 89</td>\n",
       "      <td>5783.455192</td>\n",
       "    </tr>\n",
       "    <tr>\n",
       "      <th>10</th>\n",
       "      <td>'90 - 99</td>\n",
       "      <td>3404.891505</td>\n",
       "    </tr>\n",
       "    <tr>\n",
       "      <th>13</th>\n",
       "      <td>'Not Available / non disponible</td>\n",
       "      <td>14351.248626</td>\n",
       "    </tr>\n",
       "  </tbody>\n",
       "</table>\n",
       "</div>"
      ],
      "text/plain": [
       "                   Victim_Age_Range   Dollar_Loss\n",
       "1                          '10 - 19    625.572225\n",
       "2                            '100 +   1925.905192\n",
       "3                          '20 - 29   1750.199283\n",
       "4                          '30 - 39   3067.813363\n",
       "5                          '40 - 49   5815.443867\n",
       "6                          '50 - 59   8434.209976\n",
       "7                          '60 - 69   8162.885312\n",
       "8                          '70 - 79   7647.480442\n",
       "9                          '80 - 89   5783.455192\n",
       "10                         '90 - 99   3404.891505\n",
       "13  'Not Available / non disponible  14351.248626"
      ]
     },
     "execution_count": 104,
     "metadata": {},
     "output_type": "execute_result"
    }
   ],
   "source": [
    "\n",
    "unwanted_categories = [\n",
    "    \"'1 - 9\",  \n",
    "    \"'Business / Entreprise\",\n",
    "    \"'Deceased / Décédé\",\n",
    "    \n",
    "]\n",
    "\n",
    "# Filter out unwanted categories using multiple conditions\n",
    "filtered_age_range = age_range_id[\n",
    "    ~age_range_id['Victim_Age_Range'].isin(unwanted_categories)\n",
    "]\n",
    "filtered_age_range\n",
    "\n",
    "#filter the data"
   ]
  },
  {
   "cell_type": "code",
   "execution_count": 174,
   "id": "b1a44c26-c1eb-4312-9e2b-b6a80f0e4cd4",
   "metadata": {},
   "outputs": [
    {
     "data": {
      "application/vnd.plotly.v1+json": {
       "config": {
        "plotlyServerURL": "https://plot.ly"
       },
       "data": [
        {
         "alignmentgroup": "True",
         "hovertemplate": "Victim Age Range=%{x}<br>Financial Loss ($)=%{text}<extra></extra>",
         "legendgroup": "",
         "marker": {
          "color": "#636efa",
          "pattern": {
           "shape": ""
          }
         },
         "name": "",
         "offsetgroup": "",
         "orientation": "v",
         "showlegend": false,
         "text": [
          625.5722254990926,
          1925.9051923076925,
          1750.199283477432,
          3067.8133626222284,
          5815.443866590757,
          8434.209975987926,
          8162.8853120144195,
          7647.480442045224,
          5783.4551919028345,
          3404.891504854369,
          14351.248626072667
         ],
         "textposition": "outside",
         "texttemplate": "%{text:.2f}",
         "type": "bar",
         "x": [
          "'10 - 19",
          "'100 +",
          "'20 - 29",
          "'30 - 39",
          "'40 - 49",
          "'50 - 59",
          "'60 - 69",
          "'70 - 79",
          "'80 - 89",
          "'90 - 99",
          "'Not Available / non disponible"
         ],
         "xaxis": "x",
         "y": [
          625.5722254990926,
          1925.9051923076925,
          1750.199283477432,
          3067.8133626222284,
          5815.443866590757,
          8434.209975987926,
          8162.8853120144195,
          7647.480442045224,
          5783.4551919028345,
          3404.891504854369,
          14351.248626072667
         ],
         "yaxis": "y"
        }
       ],
       "layout": {
        "barmode": "relative",
        "height": 600,
        "legend": {
         "tracegroupgap": 0
        },
        "template": {
         "data": {
          "bar": [
           {
            "error_x": {
             "color": "#2a3f5f"
            },
            "error_y": {
             "color": "#2a3f5f"
            },
            "marker": {
             "line": {
              "color": "white",
              "width": 0.5
             },
             "pattern": {
              "fillmode": "overlay",
              "size": 10,
              "solidity": 0.2
             }
            },
            "type": "bar"
           }
          ],
          "barpolar": [
           {
            "marker": {
             "line": {
              "color": "white",
              "width": 0.5
             },
             "pattern": {
              "fillmode": "overlay",
              "size": 10,
              "solidity": 0.2
             }
            },
            "type": "barpolar"
           }
          ],
          "carpet": [
           {
            "aaxis": {
             "endlinecolor": "#2a3f5f",
             "gridcolor": "#C8D4E3",
             "linecolor": "#C8D4E3",
             "minorgridcolor": "#C8D4E3",
             "startlinecolor": "#2a3f5f"
            },
            "baxis": {
             "endlinecolor": "#2a3f5f",
             "gridcolor": "#C8D4E3",
             "linecolor": "#C8D4E3",
             "minorgridcolor": "#C8D4E3",
             "startlinecolor": "#2a3f5f"
            },
            "type": "carpet"
           }
          ],
          "choropleth": [
           {
            "colorbar": {
             "outlinewidth": 0,
             "ticks": ""
            },
            "type": "choropleth"
           }
          ],
          "contour": [
           {
            "colorbar": {
             "outlinewidth": 0,
             "ticks": ""
            },
            "colorscale": [
             [
              0,
              "#0d0887"
             ],
             [
              0.1111111111111111,
              "#46039f"
             ],
             [
              0.2222222222222222,
              "#7201a8"
             ],
             [
              0.3333333333333333,
              "#9c179e"
             ],
             [
              0.4444444444444444,
              "#bd3786"
             ],
             [
              0.5555555555555556,
              "#d8576b"
             ],
             [
              0.6666666666666666,
              "#ed7953"
             ],
             [
              0.7777777777777778,
              "#fb9f3a"
             ],
             [
              0.8888888888888888,
              "#fdca26"
             ],
             [
              1,
              "#f0f921"
             ]
            ],
            "type": "contour"
           }
          ],
          "contourcarpet": [
           {
            "colorbar": {
             "outlinewidth": 0,
             "ticks": ""
            },
            "type": "contourcarpet"
           }
          ],
          "heatmap": [
           {
            "colorbar": {
             "outlinewidth": 0,
             "ticks": ""
            },
            "colorscale": [
             [
              0,
              "#0d0887"
             ],
             [
              0.1111111111111111,
              "#46039f"
             ],
             [
              0.2222222222222222,
              "#7201a8"
             ],
             [
              0.3333333333333333,
              "#9c179e"
             ],
             [
              0.4444444444444444,
              "#bd3786"
             ],
             [
              0.5555555555555556,
              "#d8576b"
             ],
             [
              0.6666666666666666,
              "#ed7953"
             ],
             [
              0.7777777777777778,
              "#fb9f3a"
             ],
             [
              0.8888888888888888,
              "#fdca26"
             ],
             [
              1,
              "#f0f921"
             ]
            ],
            "type": "heatmap"
           }
          ],
          "heatmapgl": [
           {
            "colorbar": {
             "outlinewidth": 0,
             "ticks": ""
            },
            "colorscale": [
             [
              0,
              "#0d0887"
             ],
             [
              0.1111111111111111,
              "#46039f"
             ],
             [
              0.2222222222222222,
              "#7201a8"
             ],
             [
              0.3333333333333333,
              "#9c179e"
             ],
             [
              0.4444444444444444,
              "#bd3786"
             ],
             [
              0.5555555555555556,
              "#d8576b"
             ],
             [
              0.6666666666666666,
              "#ed7953"
             ],
             [
              0.7777777777777778,
              "#fb9f3a"
             ],
             [
              0.8888888888888888,
              "#fdca26"
             ],
             [
              1,
              "#f0f921"
             ]
            ],
            "type": "heatmapgl"
           }
          ],
          "histogram": [
           {
            "marker": {
             "pattern": {
              "fillmode": "overlay",
              "size": 10,
              "solidity": 0.2
             }
            },
            "type": "histogram"
           }
          ],
          "histogram2d": [
           {
            "colorbar": {
             "outlinewidth": 0,
             "ticks": ""
            },
            "colorscale": [
             [
              0,
              "#0d0887"
             ],
             [
              0.1111111111111111,
              "#46039f"
             ],
             [
              0.2222222222222222,
              "#7201a8"
             ],
             [
              0.3333333333333333,
              "#9c179e"
             ],
             [
              0.4444444444444444,
              "#bd3786"
             ],
             [
              0.5555555555555556,
              "#d8576b"
             ],
             [
              0.6666666666666666,
              "#ed7953"
             ],
             [
              0.7777777777777778,
              "#fb9f3a"
             ],
             [
              0.8888888888888888,
              "#fdca26"
             ],
             [
              1,
              "#f0f921"
             ]
            ],
            "type": "histogram2d"
           }
          ],
          "histogram2dcontour": [
           {
            "colorbar": {
             "outlinewidth": 0,
             "ticks": ""
            },
            "colorscale": [
             [
              0,
              "#0d0887"
             ],
             [
              0.1111111111111111,
              "#46039f"
             ],
             [
              0.2222222222222222,
              "#7201a8"
             ],
             [
              0.3333333333333333,
              "#9c179e"
             ],
             [
              0.4444444444444444,
              "#bd3786"
             ],
             [
              0.5555555555555556,
              "#d8576b"
             ],
             [
              0.6666666666666666,
              "#ed7953"
             ],
             [
              0.7777777777777778,
              "#fb9f3a"
             ],
             [
              0.8888888888888888,
              "#fdca26"
             ],
             [
              1,
              "#f0f921"
             ]
            ],
            "type": "histogram2dcontour"
           }
          ],
          "mesh3d": [
           {
            "colorbar": {
             "outlinewidth": 0,
             "ticks": ""
            },
            "type": "mesh3d"
           }
          ],
          "parcoords": [
           {
            "line": {
             "colorbar": {
              "outlinewidth": 0,
              "ticks": ""
             }
            },
            "type": "parcoords"
           }
          ],
          "pie": [
           {
            "automargin": true,
            "type": "pie"
           }
          ],
          "scatter": [
           {
            "fillpattern": {
             "fillmode": "overlay",
             "size": 10,
             "solidity": 0.2
            },
            "type": "scatter"
           }
          ],
          "scatter3d": [
           {
            "line": {
             "colorbar": {
              "outlinewidth": 0,
              "ticks": ""
             }
            },
            "marker": {
             "colorbar": {
              "outlinewidth": 0,
              "ticks": ""
             }
            },
            "type": "scatter3d"
           }
          ],
          "scattercarpet": [
           {
            "marker": {
             "colorbar": {
              "outlinewidth": 0,
              "ticks": ""
             }
            },
            "type": "scattercarpet"
           }
          ],
          "scattergeo": [
           {
            "marker": {
             "colorbar": {
              "outlinewidth": 0,
              "ticks": ""
             }
            },
            "type": "scattergeo"
           }
          ],
          "scattergl": [
           {
            "marker": {
             "colorbar": {
              "outlinewidth": 0,
              "ticks": ""
             }
            },
            "type": "scattergl"
           }
          ],
          "scattermapbox": [
           {
            "marker": {
             "colorbar": {
              "outlinewidth": 0,
              "ticks": ""
             }
            },
            "type": "scattermapbox"
           }
          ],
          "scatterpolar": [
           {
            "marker": {
             "colorbar": {
              "outlinewidth": 0,
              "ticks": ""
             }
            },
            "type": "scatterpolar"
           }
          ],
          "scatterpolargl": [
           {
            "marker": {
             "colorbar": {
              "outlinewidth": 0,
              "ticks": ""
             }
            },
            "type": "scatterpolargl"
           }
          ],
          "scatterternary": [
           {
            "marker": {
             "colorbar": {
              "outlinewidth": 0,
              "ticks": ""
             }
            },
            "type": "scatterternary"
           }
          ],
          "surface": [
           {
            "colorbar": {
             "outlinewidth": 0,
             "ticks": ""
            },
            "colorscale": [
             [
              0,
              "#0d0887"
             ],
             [
              0.1111111111111111,
              "#46039f"
             ],
             [
              0.2222222222222222,
              "#7201a8"
             ],
             [
              0.3333333333333333,
              "#9c179e"
             ],
             [
              0.4444444444444444,
              "#bd3786"
             ],
             [
              0.5555555555555556,
              "#d8576b"
             ],
             [
              0.6666666666666666,
              "#ed7953"
             ],
             [
              0.7777777777777778,
              "#fb9f3a"
             ],
             [
              0.8888888888888888,
              "#fdca26"
             ],
             [
              1,
              "#f0f921"
             ]
            ],
            "type": "surface"
           }
          ],
          "table": [
           {
            "cells": {
             "fill": {
              "color": "#EBF0F8"
             },
             "line": {
              "color": "white"
             }
            },
            "header": {
             "fill": {
              "color": "#C8D4E3"
             },
             "line": {
              "color": "white"
             }
            },
            "type": "table"
           }
          ]
         },
         "layout": {
          "annotationdefaults": {
           "arrowcolor": "#2a3f5f",
           "arrowhead": 0,
           "arrowwidth": 1
          },
          "autotypenumbers": "strict",
          "coloraxis": {
           "colorbar": {
            "outlinewidth": 0,
            "ticks": ""
           }
          },
          "colorscale": {
           "diverging": [
            [
             0,
             "#8e0152"
            ],
            [
             0.1,
             "#c51b7d"
            ],
            [
             0.2,
             "#de77ae"
            ],
            [
             0.3,
             "#f1b6da"
            ],
            [
             0.4,
             "#fde0ef"
            ],
            [
             0.5,
             "#f7f7f7"
            ],
            [
             0.6,
             "#e6f5d0"
            ],
            [
             0.7,
             "#b8e186"
            ],
            [
             0.8,
             "#7fbc41"
            ],
            [
             0.9,
             "#4d9221"
            ],
            [
             1,
             "#276419"
            ]
           ],
           "sequential": [
            [
             0,
             "#0d0887"
            ],
            [
             0.1111111111111111,
             "#46039f"
            ],
            [
             0.2222222222222222,
             "#7201a8"
            ],
            [
             0.3333333333333333,
             "#9c179e"
            ],
            [
             0.4444444444444444,
             "#bd3786"
            ],
            [
             0.5555555555555556,
             "#d8576b"
            ],
            [
             0.6666666666666666,
             "#ed7953"
            ],
            [
             0.7777777777777778,
             "#fb9f3a"
            ],
            [
             0.8888888888888888,
             "#fdca26"
            ],
            [
             1,
             "#f0f921"
            ]
           ],
           "sequentialminus": [
            [
             0,
             "#0d0887"
            ],
            [
             0.1111111111111111,
             "#46039f"
            ],
            [
             0.2222222222222222,
             "#7201a8"
            ],
            [
             0.3333333333333333,
             "#9c179e"
            ],
            [
             0.4444444444444444,
             "#bd3786"
            ],
            [
             0.5555555555555556,
             "#d8576b"
            ],
            [
             0.6666666666666666,
             "#ed7953"
            ],
            [
             0.7777777777777778,
             "#fb9f3a"
            ],
            [
             0.8888888888888888,
             "#fdca26"
            ],
            [
             1,
             "#f0f921"
            ]
           ]
          },
          "colorway": [
           "#636efa",
           "#EF553B",
           "#00cc96",
           "#ab63fa",
           "#FFA15A",
           "#19d3f3",
           "#FF6692",
           "#B6E880",
           "#FF97FF",
           "#FECB52"
          ],
          "font": {
           "color": "#2a3f5f"
          },
          "geo": {
           "bgcolor": "white",
           "lakecolor": "white",
           "landcolor": "white",
           "showlakes": true,
           "showland": true,
           "subunitcolor": "#C8D4E3"
          },
          "hoverlabel": {
           "align": "left"
          },
          "hovermode": "closest",
          "mapbox": {
           "style": "light"
          },
          "paper_bgcolor": "white",
          "plot_bgcolor": "white",
          "polar": {
           "angularaxis": {
            "gridcolor": "#EBF0F8",
            "linecolor": "#EBF0F8",
            "ticks": ""
           },
           "bgcolor": "white",
           "radialaxis": {
            "gridcolor": "#EBF0F8",
            "linecolor": "#EBF0F8",
            "ticks": ""
           }
          },
          "scene": {
           "xaxis": {
            "backgroundcolor": "white",
            "gridcolor": "#DFE8F3",
            "gridwidth": 2,
            "linecolor": "#EBF0F8",
            "showbackground": true,
            "ticks": "",
            "zerolinecolor": "#EBF0F8"
           },
           "yaxis": {
            "backgroundcolor": "white",
            "gridcolor": "#DFE8F3",
            "gridwidth": 2,
            "linecolor": "#EBF0F8",
            "showbackground": true,
            "ticks": "",
            "zerolinecolor": "#EBF0F8"
           },
           "zaxis": {
            "backgroundcolor": "white",
            "gridcolor": "#DFE8F3",
            "gridwidth": 2,
            "linecolor": "#EBF0F8",
            "showbackground": true,
            "ticks": "",
            "zerolinecolor": "#EBF0F8"
           }
          },
          "shapedefaults": {
           "line": {
            "color": "#2a3f5f"
           }
          },
          "ternary": {
           "aaxis": {
            "gridcolor": "#DFE8F3",
            "linecolor": "#A2B1C6",
            "ticks": ""
           },
           "baxis": {
            "gridcolor": "#DFE8F3",
            "linecolor": "#A2B1C6",
            "ticks": ""
           },
           "bgcolor": "white",
           "caxis": {
            "gridcolor": "#DFE8F3",
            "linecolor": "#A2B1C6",
            "ticks": ""
           }
          },
          "title": {
           "x": 0.05
          },
          "xaxis": {
           "automargin": true,
           "gridcolor": "#EBF0F8",
           "linecolor": "#EBF0F8",
           "ticks": "",
           "title": {
            "standoff": 15
           },
           "zerolinecolor": "#EBF0F8",
           "zerolinewidth": 2
          },
          "yaxis": {
           "automargin": true,
           "gridcolor": "#EBF0F8",
           "linecolor": "#EBF0F8",
           "ticks": "",
           "title": {
            "standoff": 15
           },
           "zerolinecolor": "#EBF0F8",
           "zerolinewidth": 2
          }
         }
        },
        "title": {
         "text": "Distribution of Financial Loss by Victim Age Range"
        },
        "width": 800,
        "xaxis": {
         "anchor": "y",
         "autorange": true,
         "domain": [
          0,
          1
         ],
         "range": [
          -0.5,
          10.5
         ],
         "tickangle": -45,
         "title": {
          "text": "Victim Age Range"
         },
         "type": "category"
        },
        "yaxis": {
         "anchor": "x",
         "autorange": true,
         "domain": [
          0,
          1
         ],
         "range": [
          0,
          15106.577501129124
         ],
         "title": {
          "text": "Financial Loss ($)"
         },
         "type": "linear"
        }
       }
      },
      "image/png": "[encoded data removed]",
      "text/html": [
       "<div>                            <div id=\"be62f531-53da-433b-9fb7-1d98564bf579\" class=\"plotly-graph-div\" style=\"height:600px; width:800px;\"></div>            <script type=\"text/javascript\">                require([\"plotly\"], function(Plotly) {                    window.PLOTLYENV=window.PLOTLYENV || {};                                    if (document.getElementById(\"be62f531-53da-433b-9fb7-1d98564bf579\")) {                    Plotly.newPlot(                        \"be62f531-53da-433b-9fb7-1d98564bf579\",                        [{\"alignmentgroup\":\"True\",\"hovertemplate\":\"Victim Age Range=%{x}\\u003cbr\\u003eFinancial Loss ($)=%{text}\\u003cextra\\u003e\\u003c\\u002fextra\\u003e\",\"legendgroup\":\"\",\"marker\":{\"color\":\"#636efa\",\"pattern\":{\"shape\":\"\"}},\"name\":\"\",\"offsetgroup\":\"\",\"orientation\":\"v\",\"showlegend\":false,\"text\":[625.5722254990926,1925.9051923076925,1750.199283477432,3067.8133626222284,5815.443866590757,8434.209975987926,8162.8853120144195,7647.480442045224,5783.4551919028345,3404.891504854369,14351.248626072667],\"textposition\":\"outside\",\"x\":[\"'10 - 19\",\"'100 +\",\"'20 - 29\",\"'30 - 39\",\"'40 - 49\",\"'50 - 59\",\"'60 - 69\",\"'70 - 79\",\"'80 - 89\",\"'90 - 99\",\"'Not Available \\u002f non disponible\"],\"xaxis\":\"x\",\"y\":[625.5722254990926,1925.9051923076925,1750.199283477432,3067.8133626222284,5815.443866590757,8434.209975987926,8162.8853120144195,7647.480442045224,5783.4551919028345,3404.891504854369,14351.248626072667],\"yaxis\":\"y\",\"type\":\"bar\",\"texttemplate\":\"%{text:.2f}\"}],                        {\"template\":{\"data\":{\"barpolar\":[{\"marker\":{\"line\":{\"color\":\"white\",\"width\":0.5},\"pattern\":{\"fillmode\":\"overlay\",\"size\":10,\"solidity\":0.2}},\"type\":\"barpolar\"}],\"bar\":[{\"error_x\":{\"color\":\"#2a3f5f\"},\"error_y\":{\"color\":\"#2a3f5f\"},\"marker\":{\"line\":{\"color\":\"white\",\"width\":0.5},\"pattern\":{\"fillmode\":\"overlay\",\"size\":10,\"solidity\":0.2}},\"type\":\"bar\"}],\"carpet\":[{\"aaxis\":{\"endlinecolor\":\"#2a3f5f\",\"gridcolor\":\"#C8D4E3\",\"linecolor\":\"#C8D4E3\",\"minorgridcolor\":\"#C8D4E3\",\"startlinecolor\":\"#2a3f5f\"},\"baxis\":{\"endlinecolor\":\"#2a3f5f\",\"gridcolor\":\"#C8D4E3\",\"linecolor\":\"#C8D4E3\",\"minorgridcolor\":\"#C8D4E3\",\"startlinecolor\":\"#2a3f5f\"},\"type\":\"carpet\"}],\"choropleth\":[{\"colorbar\":{\"outlinewidth\":0,\"ticks\":\"\"},\"type\":\"choropleth\"}],\"contourcarpet\":[{\"colorbar\":{\"outlinewidth\":0,\"ticks\":\"\"},\"type\":\"contourcarpet\"}],\"contour\":[{\"colorbar\":{\"outlinewidth\":0,\"ticks\":\"\"},\"colorscale\":[[0.0,\"#0d0887\"],[0.1111111111111111,\"#46039f\"],[0.2222222222222222,\"#7201a8\"],[0.3333333333333333,\"#9c179e\"],[0.4444444444444444,\"#bd3786\"],[0.5555555555555556,\"#d8576b\"],[0.6666666666666666,\"#ed7953\"],[0.7777777777777778,\"#fb9f3a\"],[0.8888888888888888,\"#fdca26\"],[1.0,\"#f0f921\"]],\"type\":\"contour\"}],\"heatmapgl\":[{\"colorbar\":{\"outlinewidth\":0,\"ticks\":\"\"},\"colorscale\":[[0.0,\"#0d0887\"],[0.1111111111111111,\"#46039f\"],[0.2222222222222222,\"#7201a8\"],[0.3333333333333333,\"#9c179e\"],[0.4444444444444444,\"#bd3786\"],[0.5555555555555556,\"#d8576b\"],[0.6666666666666666,\"#ed7953\"],[0.7777777777777778,\"#fb9f3a\"],[0.8888888888888888,\"#fdca26\"],[1.0,\"#f0f921\"]],\"type\":\"heatmapgl\"}],\"heatmap\":[{\"colorbar\":{\"outlinewidth\":0,\"ticks\":\"\"},\"colorscale\":[[0.0,\"#0d0887\"],[0.1111111111111111,\"#46039f\"],[0.2222222222222222,\"#7201a8\"],[0.3333333333333333,\"#9c179e\"],[0.4444444444444444,\"#bd3786\"],[0.5555555555555556,\"#d8576b\"],[0.6666666666666666,\"#ed7953\"],[0.7777777777777778,\"#fb9f3a\"],[0.8888888888888888,\"#fdca26\"],[1.0,\"#f0f921\"]],\"type\":\"heatmap\"}],\"histogram2dcontour\":[{\"colorbar\":{\"outlinewidth\":0,\"ticks\":\"\"},\"colorscale\":[[0.0,\"#0d0887\"],[0.1111111111111111,\"#46039f\"],[0.2222222222222222,\"#7201a8\"],[0.3333333333333333,\"#9c179e\"],[0.4444444444444444,\"#bd3786\"],[0.5555555555555556,\"#d8576b\"],[0.6666666666666666,\"#ed7953\"],[0.7777777777777778,\"#fb9f3a\"],[0.8888888888888888,\"#fdca26\"],[1.0,\"#f0f921\"]],\"type\":\"histogram2dcontour\"}],\"histogram2d\":[{\"colorbar\":{\"outlinewidth\":0,\"ticks\":\"\"},\"colorscale\":[[0.0,\"#0d0887\"],[0.1111111111111111,\"#46039f\"],[0.2222222222222222,\"#7201a8\"],[0.3333333333333333,\"#9c179e\"],[0.4444444444444444,\"#bd3786\"],[0.5555555555555556,\"#d8576b\"],[0.6666666666666666,\"#ed7953\"],[0.7777777777777778,\"#fb9f3a\"],[0.8888888888888888,\"#fdca26\"],[1.0,\"#f0f921\"]],\"type\":\"histogram2d\"}],\"histogram\":[{\"marker\":{\"pattern\":{\"fillmode\":\"overlay\",\"size\":10,\"solidity\":0.2}},\"type\":\"histogram\"}],\"mesh3d\":[{\"colorbar\":{\"outlinewidth\":0,\"ticks\":\"\"},\"type\":\"mesh3d\"}],\"parcoords\":[{\"line\":{\"colorbar\":{\"outlinewidth\":0,\"ticks\":\"\"}},\"type\":\"parcoords\"}],\"pie\":[{\"automargin\":true,\"type\":\"pie\"}],\"scatter3d\":[{\"line\":{\"colorbar\":{\"outlinewidth\":0,\"ticks\":\"\"}},\"marker\":{\"colorbar\":{\"outlinewidth\":0,\"ticks\":\"\"}},\"type\":\"scatter3d\"}],\"scattercarpet\":[{\"marker\":{\"colorbar\":{\"outlinewidth\":0,\"ticks\":\"\"}},\"type\":\"scattercarpet\"}],\"scattergeo\":[{\"marker\":{\"colorbar\":{\"outlinewidth\":0,\"ticks\":\"\"}},\"type\":\"scattergeo\"}],\"scattergl\":[{\"marker\":{\"colorbar\":{\"outlinewidth\":0,\"ticks\":\"\"}},\"type\":\"scattergl\"}],\"scattermapbox\":[{\"marker\":{\"colorbar\":{\"outlinewidth\":0,\"ticks\":\"\"}},\"type\":\"scattermapbox\"}],\"scatterpolargl\":[{\"marker\":{\"colorbar\":{\"outlinewidth\":0,\"ticks\":\"\"}},\"type\":\"scatterpolargl\"}],\"scatterpolar\":[{\"marker\":{\"colorbar\":{\"outlinewidth\":0,\"ticks\":\"\"}},\"type\":\"scatterpolar\"}],\"scatter\":[{\"fillpattern\":{\"fillmode\":\"overlay\",\"size\":10,\"solidity\":0.2},\"type\":\"scatter\"}],\"scatterternary\":[{\"marker\":{\"colorbar\":{\"outlinewidth\":0,\"ticks\":\"\"}},\"type\":\"scatterternary\"}],\"surface\":[{\"colorbar\":{\"outlinewidth\":0,\"ticks\":\"\"},\"colorscale\":[[0.0,\"#0d0887\"],[0.1111111111111111,\"#46039f\"],[0.2222222222222222,\"#7201a8\"],[0.3333333333333333,\"#9c179e\"],[0.4444444444444444,\"#bd3786\"],[0.5555555555555556,\"#d8576b\"],[0.6666666666666666,\"#ed7953\"],[0.7777777777777778,\"#fb9f3a\"],[0.8888888888888888,\"#fdca26\"],[1.0,\"#f0f921\"]],\"type\":\"surface\"}],\"table\":[{\"cells\":{\"fill\":{\"color\":\"#EBF0F8\"},\"line\":{\"color\":\"white\"}},\"header\":{\"fill\":{\"color\":\"#C8D4E3\"},\"line\":{\"color\":\"white\"}},\"type\":\"table\"}]},\"layout\":{\"annotationdefaults\":{\"arrowcolor\":\"#2a3f5f\",\"arrowhead\":0,\"arrowwidth\":1},\"autotypenumbers\":\"strict\",\"coloraxis\":{\"colorbar\":{\"outlinewidth\":0,\"ticks\":\"\"}},\"colorscale\":{\"diverging\":[[0,\"#8e0152\"],[0.1,\"#c51b7d\"],[0.2,\"#de77ae\"],[0.3,\"#f1b6da\"],[0.4,\"#fde0ef\"],[0.5,\"#f7f7f7\"],[0.6,\"#e6f5d0\"],[0.7,\"#b8e186\"],[0.8,\"#7fbc41\"],[0.9,\"#4d9221\"],[1,\"#276419\"]],\"sequential\":[[0.0,\"#0d0887\"],[0.1111111111111111,\"#46039f\"],[0.2222222222222222,\"#7201a8\"],[0.3333333333333333,\"#9c179e\"],[0.4444444444444444,\"#bd3786\"],[0.5555555555555556,\"#d8576b\"],[0.6666666666666666,\"#ed7953\"],[0.7777777777777778,\"#fb9f3a\"],[0.8888888888888888,\"#fdca26\"],[1.0,\"#f0f921\"]],\"sequentialminus\":[[0.0,\"#0d0887\"],[0.1111111111111111,\"#46039f\"],[0.2222222222222222,\"#7201a8\"],[0.3333333333333333,\"#9c179e\"],[0.4444444444444444,\"#bd3786\"],[0.5555555555555556,\"#d8576b\"],[0.6666666666666666,\"#ed7953\"],[0.7777777777777778,\"#fb9f3a\"],[0.8888888888888888,\"#fdca26\"],[1.0,\"#f0f921\"]]},\"colorway\":[\"#636efa\",\"#EF553B\",\"#00cc96\",\"#ab63fa\",\"#FFA15A\",\"#19d3f3\",\"#FF6692\",\"#B6E880\",\"#FF97FF\",\"#FECB52\"],\"font\":{\"color\":\"#2a3f5f\"},\"geo\":{\"bgcolor\":\"white\",\"lakecolor\":\"white\",\"landcolor\":\"white\",\"showlakes\":true,\"showland\":true,\"subunitcolor\":\"#C8D4E3\"},\"hoverlabel\":{\"align\":\"left\"},\"hovermode\":\"closest\",\"mapbox\":{\"style\":\"light\"},\"paper_bgcolor\":\"white\",\"plot_bgcolor\":\"white\",\"polar\":{\"angularaxis\":{\"gridcolor\":\"#EBF0F8\",\"linecolor\":\"#EBF0F8\",\"ticks\":\"\"},\"bgcolor\":\"white\",\"radialaxis\":{\"gridcolor\":\"#EBF0F8\",\"linecolor\":\"#EBF0F8\",\"ticks\":\"\"}},\"scene\":{\"xaxis\":{\"backgroundcolor\":\"white\",\"gridcolor\":\"#DFE8F3\",\"gridwidth\":2,\"linecolor\":\"#EBF0F8\",\"showbackground\":true,\"ticks\":\"\",\"zerolinecolor\":\"#EBF0F8\"},\"yaxis\":{\"backgroundcolor\":\"white\",\"gridcolor\":\"#DFE8F3\",\"gridwidth\":2,\"linecolor\":\"#EBF0F8\",\"showbackground\":true,\"ticks\":\"\",\"zerolinecolor\":\"#EBF0F8\"},\"zaxis\":{\"backgroundcolor\":\"white\",\"gridcolor\":\"#DFE8F3\",\"gridwidth\":2,\"linecolor\":\"#EBF0F8\",\"showbackground\":true,\"ticks\":\"\",\"zerolinecolor\":\"#EBF0F8\"}},\"shapedefaults\":{\"line\":{\"color\":\"#2a3f5f\"}},\"ternary\":{\"aaxis\":{\"gridcolor\":\"#DFE8F3\",\"linecolor\":\"#A2B1C6\",\"ticks\":\"\"},\"baxis\":{\"gridcolor\":\"#DFE8F3\",\"linecolor\":\"#A2B1C6\",\"ticks\":\"\"},\"bgcolor\":\"white\",\"caxis\":{\"gridcolor\":\"#DFE8F3\",\"linecolor\":\"#A2B1C6\",\"ticks\":\"\"}},\"title\":{\"x\":0.05},\"xaxis\":{\"automargin\":true,\"gridcolor\":\"#EBF0F8\",\"linecolor\":\"#EBF0F8\",\"ticks\":\"\",\"title\":{\"standoff\":15},\"zerolinecolor\":\"#EBF0F8\",\"zerolinewidth\":2},\"yaxis\":{\"automargin\":true,\"gridcolor\":\"#EBF0F8\",\"linecolor\":\"#EBF0F8\",\"ticks\":\"\",\"title\":{\"standoff\":15},\"zerolinecolor\":\"#EBF0F8\",\"zerolinewidth\":2}}},\"xaxis\":{\"anchor\":\"y\",\"domain\":[0.0,1.0],\"title\":{\"text\":\"Victim Age Range\"},\"tickangle\":-45},\"yaxis\":{\"anchor\":\"x\",\"domain\":[0.0,1.0],\"title\":{\"text\":\"Financial Loss ($)\"}},\"legend\":{\"tracegroupgap\":0},\"title\":{\"text\":\"Distribution of Financial Loss by Victim Age Range\"},\"barmode\":\"relative\",\"width\":800,\"height\":600},                        {\"responsive\": true}                    ).then(function(){\n",
       "                            \n",
       "var gd = document.getElementById('be62f531-53da-433b-9fb7-1d98564bf579');\n",
       "var x = new MutationObserver(function (mutations, observer) {{\n",
       "        var display = window.getComputedStyle(gd).display;\n",
       "        if (!display || display === 'none') {{\n",
       "            console.log([gd, 'removed!']);\n",
       "            Plotly.purge(gd);\n",
       "            observer.disconnect();\n",
       "        }}\n",
       "}});\n",
       "\n",
       "// Listen for the removal of the full notebook cells\n",
       "var notebookContainer = gd.closest('#notebook-container');\n",
       "if (notebookContainer) {{\n",
       "    x.observe(notebookContainer, {childList: true});\n",
       "}}\n",
       "\n",
       "// Listen for the clearing of the current output cell\n",
       "var outputEl = gd.closest('.output');\n",
       "if (outputEl) {{\n",
       "    x.observe(outputEl, {childList: true});\n",
       "}}\n",
       "\n",
       "                        })                };                });            </script>        </div>"
      ]
     },
     "metadata": {},
     "output_type": "display_data"
    }
   ],
   "source": [
    "import plotly.express as px\n",
    "\n",
    "fig = px.bar(\n",
    "    filtered_age_range,\n",
    "    x='Victim_Age_Range',\n",
    "    y='Dollar_Loss',\n",
    "    title='Distribution of Financial Loss by Victim Age Range',\n",
    "    labels={'Victim_Age_Range': 'Victim Age Range', 'Dollar_Loss': 'Financial Loss ($)'},\n",
    "    text='Dollar_Loss'  \n",
    ")\n",
    "\n",
    "\n",
    "fig.update_traces(texttemplate='%{text:.2f}', textposition='outside')  \n",
    "fig.update_layout(\n",
    "    xaxis_title='Victim Age Range',\n",
    "    yaxis_title='Financial Loss ($)',\n",
    "    xaxis_tickangle=-45,  \n",
    "    template='plotly_white' \n",
    ")\n",
    "fig.update_layout(\n",
    "    width=800,  # Set the width of the plot\n",
    "    height=600,  # Set the height of the plot\n",
    "    \n",
    ")\n",
    "\n",
    "\n",
    "fig.show()"
   ]
  },
  {
   "cell_type": "code",
   "execution_count": null,
   "id": "eab82404-9280-4c52-bd3d-4f031ddaa947",
   "metadata": {},
   "outputs": [],
   "source": [
    "From the above findings, we can see for age 50-59 on an average each person loss is appor 8500 dollars, which was expected as they may have less \n",
    "knowledge about the current scams going on."
   ]
  }
 ],
 "metadata": {
  "kernelspec": {
   "display_name": "Python 3 (ipykernel)",
   "language": "python",
   "name": "python3"
  },
  "language_info": {
   "codemirror_mode": {
    "name": "ipython",
    "version": 3
   },
   "file_extension": ".py",
   "mimetype": "text/x-python",
   "name": "python",
   "nbconvert_exporter": "python",
   "pygments_lexer": "ipython3",
   "version": "3.12.4"
  }
 },
 "nbformat": 4,
 "nbformat_minor": 5
}
